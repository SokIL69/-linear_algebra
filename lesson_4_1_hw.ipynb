{
 "cells": [
  {
   "cell_type": "markdown",
   "metadata": {},
   "source": [
    "### Соковнин Игорь Леонидович\n",
    "\n",
    "# Линейная алгебра"
   ]
  },
  {
   "cell_type": "markdown",
   "metadata": {},
   "source": [
    "### Урок 4. Системы линейных уравнений. Часть 1"
   ]
  },
  {
   "cell_type": "markdown",
   "metadata": {},
   "source": [
    "## Практическое задание"
   ]
  },
  {
   "cell_type": "markdown",
   "metadata": {},
   "source": [
    "__1.__ Решить систему уравнений методом Гаусса:\n",
    "\n",
    "$$\\begin{cases}\n",
    "x_{1}+x_{2}-x_{3}-2x_{4}=0, \\\\\n",
    "2x_{1}+x_{2}-x_{3}+x_{4}=-2, \\\\\n",
    "x_{1}+x_{2}-3x_{3}+x_{4}=4.\n",
    "\\end{cases}$$\n",
    "\n",
    "__2.__ Проверить на совместность и выяснить, сколько решений будет иметь система линейных уравнений:\n",
    "\n",
    "   а) $\\begin{cases}\n",
    "3x_{1}-x_{2}+x_{3}=4, \\\\\n",
    "2x_{1}-5x_{2}-3x_{3}=-17, \\\\\n",
    "x_{1}+x_{2}-x_{3}=0;\n",
    "\\end{cases}$\n",
    "    \n",
    "   б) $\\begin{cases}\n",
    "2x_{1}-4x_{2}+6x_{3}=1, \\\\\n",
    "x_{1}-2x_{2}+3x_{3}=-2, \\\\\n",
    "3x_{1}-6x_{2}+9x_{3}=5;\n",
    "\\end{cases}$\n",
    "    \n",
    "   в) $\\begin{cases}\n",
    "x_{1}+2x_{2}+5x_{3}=4, \\\\\n",
    "3x_{1}+x_{2}-8x_{3}=-2. \n",
    "\\end{cases}$\n",
    "\n",
    "\n",
    "__3.__ Проверить на совместность и выяснить, сколько решений будет иметь система линейных уравнений, заданная расширенной матрицей\n",
    "\n",
    "$$\\tilde{A}=\\begin{pmatrix}\n",
    "\\left.\\begin{matrix}\n",
    "1 & 3 & -2 & 4\\\\ \n",
    "0 & 5 & 0 & 1\\\\ \n",
    "0 & 0 & 3 & 0\\\\ \n",
    "0 & 0 & 0 & 2\n",
    "\\end{matrix}\\right|\n",
    "\\begin{matrix}\n",
    "3\\\\ \n",
    "2\\\\\n",
    "4\\\\\n",
    "1\n",
    "\\end{matrix}\n",
    "\\end{pmatrix}.$$\n",
    "\n",
    "__4.__ Дана система линейных уравнений, заданная расширенной матрицей\n",
    "\n",
    "$$\\tilde{A}=\\begin{pmatrix}\n",
    "\\left.\\begin{matrix}\n",
    "1 & 2 & 3\\\\ \n",
    "4 & 5 & 6\\\\ \n",
    "7 & 8 & 9\n",
    "\\end{matrix}\\right|\n",
    "\\begin{matrix}\n",
    "a\\\\ \n",
    "b\\\\\n",
    "c\n",
    "\\end{matrix}\n",
    "\\end{pmatrix}.$$\n",
    "\n",
    "Найти соотношение между параметрами $a$, $b$ и $c$, при которых система является несовместной."
   ]
  },
  {
   "cell_type": "code",
   "execution_count": 1,
   "metadata": {},
   "outputs": [],
   "source": [
    "import numpy as np"
   ]
  },
  {
   "cell_type": "markdown",
   "metadata": {},
   "source": [
    "## Задача 1"
   ]
  },
  {
   "cell_type": "markdown",
   "metadata": {},
   "source": [
    "Решить систему уравнений методом Гаусса:\n",
    "\n",
    "$$\\begin{cases}\n",
    "x_{1}+x_{2}-x_{3}-2x_{4}=0, \\\\\n",
    "2x_{1}+x_{2}-x_{3}+x_{4}=-2, \\\\\n",
    "x_{1}+x_{2}-3x_{3}+x_{4}=4.\n",
    "\\end{cases}$$\n"
   ]
  },
  {
   "cell_type": "markdown",
   "metadata": {},
   "source": [
    "__Решение__"
   ]
  },
  {
   "cell_type": "markdown",
   "metadata": {},
   "source": [
    "Запишем расширенную матрицу системы:\n",
    "\n",
    "$$\\begin{pmatrix}\n",
    "\\left.\\begin{matrix}\n",
    "1 & 1 & -1 & -2 \\\\ \n",
    "2 & 1 & -1 & 1 \\\\ \n",
    "1 & 1 & -3 & 1\n",
    "\\end{matrix}\\right|\n",
    "\\begin{matrix}\n",
    "0\\\\ \n",
    "-2\\\\\n",
    "4\n",
    "\\end{matrix}\n",
    "\\end{pmatrix}.$$\n"
   ]
  },
  {
   "cell_type": "markdown",
   "metadata": {},
   "source": [
    "Приведём матрицу к ступенчатому виду\n",
    "\n",
    "Вычтем из второй строки первую, умноженную на 2:\n",
    "$$\\begin{pmatrix}\n",
    "\\left.\\begin{matrix}\n",
    "1 & 1 & -1 & -2 \\\\ \n",
    "0 & -1 & 1 & 5 \\\\ \n",
    "1 & 1 & -3 & 1\n",
    "\\end{matrix}\\right|\n",
    "\\begin{matrix}\n",
    "0\\\\ \n",
    "-2\\\\\n",
    "4\n",
    "\\end{matrix}\n",
    "\\end{pmatrix}.$$\n",
    "\n",
    "Вычтем из третьей строке первую:\n",
    "$$\\begin{pmatrix}\n",
    "\\left.\\begin{matrix}\n",
    "1 & 1 & -1 & -2 \\\\ \n",
    "0 & -1 & 1 & 5 \\\\ \n",
    "0 & 0 & -2 & 3\n",
    "\\end{matrix}\\right|\n",
    "\\begin{matrix}\n",
    "0\\\\ \n",
    "-2\\\\\n",
    "4\n",
    "\\end{matrix}\n",
    "\\end{pmatrix}.$$\n"
   ]
  },
  {
   "cell_type": "markdown",
   "metadata": {},
   "source": [
    "В итоге после преобразований мы получили матрицу треугльного вида, которая представляет следующую систему:\n",
    "\n",
    "$$\\begin{cases}\n",
    "x_{1}+x_{2}-x_{3}-2x_{4}=0, \\\\\n",
    "~~-x_{2}+x_{3}+5x_{4}=-2, \\\\\n",
    "~~~~~~~~~~~-2x_{3}+3x_{4}=4, \\\\\n",
    "\\end{cases}$$"
   ]
  },
  {
   "cell_type": "markdown",
   "metadata": {},
   "source": [
    "Необходимо переменную x4 принять в качестве свободной переменной и через нее выразить остальные переменные.\n",
    "$$x_{4}=c$$"
   ]
  },
  {
   "cell_type": "markdown",
   "metadata": {},
   "source": [
    "Из 3-ой строки выражаем $x_{3}$\n",
    "$$x_{3} = \\frac{3}{2}c-2$$"
   ]
  },
  {
   "cell_type": "markdown",
   "metadata": {},
   "source": [
    "Подставим $x_{3}$ во второе уравнение:\n",
    "$$-x_{2} + \\frac{3}{2}\\cdot c-2 + 5\\cdot с=-2\\Rightarrow x_{2}=\\frac{13}{2}\\cdot c,$$\n",
    "\n",
    "а затем полученные $x_{2}$ и $x_{3}$ — в первое уравнение:\n",
    "$$x_{1}+\\frac{13}{2}\\cdot c+2-\\frac{3}{2}\\cdot c+2\\cdot c=0\\Rightarrow x_{1}=-2 - 3\\cdot c.$$"
   ]
  },
  {
   "cell_type": "markdown",
   "metadata": {},
   "source": [
    "Получаем решение\n",
    "$$x_{1}=-2 - 3\\cdot c.$$\n",
    "$$x_{2}=\\frac{13}{2}\\cdot c,$$\n",
    "$$x_{3} = \\frac{3}{2}c-2,$$\n",
    "$$x_{4}=c.$$"
   ]
  },
  {
   "cell_type": "markdown",
   "metadata": {},
   "source": [
    "Для получения __частного решения__, приравняем переменную $x_{4}$ к 0:\n",
    "\n",
    "$$x_{4}=0$$\n",
    "$$x_{3}=-2$$\n",
    "$$x_{2}=0$$\n",
    "$$x_{1}=-2$$"
   ]
  },
  {
   "cell_type": "code",
   "execution_count": null,
   "metadata": {},
   "outputs": [],
   "source": []
  },
  {
   "cell_type": "code",
   "execution_count": null,
   "metadata": {},
   "outputs": [],
   "source": []
  },
  {
   "cell_type": "markdown",
   "metadata": {},
   "source": [
    "## Теорема Кронекера — Капелли¶"
   ]
  },
  {
   "cell_type": "markdown",
   "metadata": {},
   "source": [
    "Вернемся к матричному виду систем линейных уравнений \n",
    "\n",
    "$$Ax=b.$$"
   ]
  },
  {
   "cell_type": "markdown",
   "metadata": {},
   "source": [
    "__Теорема__ \n",
    "\n",
    "Необходимым и достаточным условием совместности системы из $m$ уравнений с $n$ неизвестными является равенство между собой рангов матрицы коэффициентов $A$ и расширенной матрицы $\\tilde A$\n",
    "\n",
    "$$rank A=rank \\tilde A.$$"
   ]
  },
  {
   "cell_type": "markdown",
   "metadata": {},
   "source": [
    "Причем:<br>\n",
    "1) если $rankA=rank \\tilde A=n$, где $n$ — число неизвестных, то система определена, т. е. имеет единственное решение;<br>\n",
    "2) если $rankA=rank \\tilde A<n$, то система имеет бесконечное количество решений;<br>\n",
    "3) если $rankA<rank \\tilde A$, то система несовместна."
   ]
  },
  {
   "cell_type": "markdown",
   "metadata": {},
   "source": [
    "А-матрица коэффициентов"
   ]
  },
  {
   "cell_type": "markdown",
   "metadata": {},
   "source": [
    "## Задача 2"
   ]
  },
  {
   "cell_type": "markdown",
   "metadata": {},
   "source": [
    "Проверить на совместность и выяснить, сколько решений будет иметь система линейных уравнений:\n",
    "\n",
    "   а) $\\begin{cases}\n",
    "3x_{1}-x_{2}+x_{3}=4, \\\\\n",
    "2x_{1}-5x_{2}-3x_{3}=-17, \\\\\n",
    "x_{1}+x_{2}-x_{3}=0;\n",
    "\\end{cases}$"
   ]
  },
  {
   "cell_type": "markdown",
   "metadata": {},
   "source": [
    "Запишем матрицу A в виде"
   ]
  },
  {
   "cell_type": "code",
   "execution_count": 2,
   "metadata": {},
   "outputs": [
    {
     "name": "stdout",
     "output_type": "stream",
     "text": [
      "Матрица A:\n",
      "[[ 2 -5 -3]\n",
      " [ 1  1 -1]\n",
      " [ 3 -1  1]]\n",
      "Ранг матрицы A: 3\n"
     ]
    }
   ],
   "source": [
    "a = np.array([[2, -5, -3], [1, 1, -1], [3, -1, 1] ])\n",
    "print(f'Матрица A:\\n{a}')\n",
    "r = np.linalg.matrix_rank(a)\n",
    "print(f'Ранг матрицы A: {r}')"
   ]
  },
  {
   "cell_type": "code",
   "execution_count": 3,
   "metadata": {},
   "outputs": [
    {
     "name": "stdout",
     "output_type": "stream",
     "text": [
      "Вектор b: [  4 -17   0]\n"
     ]
    }
   ],
   "source": [
    "# Вектор свободный членов\n",
    "b = np.array([4, -17, 0])\n",
    "print(f'Вектор b: {b}')"
   ]
  },
  {
   "cell_type": "markdown",
   "metadata": {},
   "source": [
    "Расширенная матрицы  A_t\n",
    "\n",
    "$$\\tilde{A}=\\begin{pmatrix}\n",
    "\\left.\\begin{matrix}\n",
    "3 & -1 & 1\\\\ \n",
    "2 & -5 & -3\\\\ \n",
    "1 & 1 & -1\n",
    "\\end{matrix}\\right|\n",
    "\\begin{matrix}\n",
    "4\\\\ \n",
    "-17\\\\\n",
    "0\n",
    "\\end{matrix}\n",
    "\\end{pmatrix}.$$"
   ]
  },
  {
   "cell_type": "code",
   "execution_count": 4,
   "metadata": {},
   "outputs": [
    {
     "name": "stdout",
     "output_type": "stream",
     "text": [
      "Расширенная матрица A_t:\n",
      "[[  1   1  -1   0]\n",
      " [  3  -1   1   4]\n",
      " [  2  -5  -3 -17]]\n",
      "Ранг матрицы A_t: 3\n"
     ]
    }
   ],
   "source": [
    "A_t = np.array([[1, 1, -1, 0], [3, -1, 1, 4], [2, -5, -3, -17]])\n",
    "print(f'Расширенная матрица A_t:\\n{A_t}')\n",
    "r = np.linalg.matrix_rank(A_t)\n",
    "print(f'Ранг матрицы A_t: {r}')"
   ]
  },
  {
   "cell_type": "markdown",
   "metadata": {},
   "source": [
    "Число неизвестных __n=3__"
   ]
  },
  {
   "cell_type": "markdown",
   "metadata": {},
   "source": [
    "Из теоремы Кронекера — Капелли cледует, что то __система a) определена__, т. е. имеет единственное решение так как $rankA=rank \\tilde A=n,  (rankA=3, rank \\tilde A=3, n=3)$"
   ]
  },
  {
   "cell_type": "code",
   "execution_count": null,
   "metadata": {},
   "outputs": [],
   "source": []
  },
  {
   "cell_type": "code",
   "execution_count": null,
   "metadata": {},
   "outputs": [],
   "source": []
  },
  {
   "cell_type": "markdown",
   "metadata": {},
   "source": [
    "б) $\\begin{cases}\n",
    "2x_{1}-4x_{2}+6x_{3}=1, \\\\\n",
    "x_{1}-2x_{2}+3x_{3}=-2, \\\\\n",
    "3x_{1}-6x_{2}+9x_{3}=5;\n",
    "\\end{cases}$"
   ]
  },
  {
   "cell_type": "code",
   "execution_count": 5,
   "metadata": {},
   "outputs": [
    {
     "name": "stdout",
     "output_type": "stream",
     "text": [
      "Матрица A:\n",
      "[[ 2 -4  6]\n",
      " [ 1 -2  3]\n",
      " [ 3 -6  9]]\n",
      "Ранг матрицы A: 1\n"
     ]
    }
   ],
   "source": [
    "a = np.array([[2, -4, 6], [1, -2, 3], [3, -6, 9] ])\n",
    "print(f'Матрица A:\\n{a}')\n",
    "r = np.linalg.matrix_rank(a)\n",
    "print(f'Ранг матрицы A: {r}')"
   ]
  },
  {
   "cell_type": "code",
   "execution_count": 6,
   "metadata": {},
   "outputs": [
    {
     "name": "stdout",
     "output_type": "stream",
     "text": [
      "Вектор b: [ 1 -2  5]\n"
     ]
    }
   ],
   "source": [
    "# Вектор свободный членов\n",
    "b = np.array([1, -2, 5])\n",
    "print(f'Вектор b: {b}')"
   ]
  },
  {
   "cell_type": "markdown",
   "metadata": {},
   "source": [
    "Расширенная матрицы  A_t\n",
    "\n",
    "$$\\tilde{A}=\\begin{pmatrix}\n",
    "\\left.\\begin{matrix}\n",
    "2 & -4 & 6\\\\ \n",
    "1 & -2 & 3\\\\ \n",
    "3 & -6 & 9\n",
    "\\end{matrix}\\right|\n",
    "\\begin{matrix}\n",
    "1\\\\ \n",
    "-2\\\\\n",
    "5\n",
    "\\end{matrix}\n",
    "\\end{pmatrix}.$$"
   ]
  },
  {
   "cell_type": "code",
   "execution_count": 7,
   "metadata": {},
   "outputs": [
    {
     "name": "stdout",
     "output_type": "stream",
     "text": [
      "Расширенная матрица A_t:\n",
      "[[ 2 -4  6  1]\n",
      " [ 1 -2  3 -2]\n",
      " [ 3 -6  9  5]]\n",
      "Ранг матрицы A_t: 2\n"
     ]
    }
   ],
   "source": [
    "A_t = np.array([[2, -4, 6, 1], [1, -2, 3, -2], [3, -6, 9, 5]])\n",
    "print(f'Расширенная матрица A_t:\\n{A_t}')\n",
    "r = np.linalg.matrix_rank(A_t)\n",
    "print(f'Ранг матрицы A_t: {r}')"
   ]
  },
  {
   "cell_type": "markdown",
   "metadata": {},
   "source": [
    "Число неизвестных __n=3__"
   ]
  },
  {
   "cell_type": "markdown",
   "metadata": {},
   "source": [
    "Из теоремы Кронекера — Капелли следует, что __система (б) несовместна__, так как $rankA<rank \\tilde A, (rankA=1, rank \\tilde A=2)$"
   ]
  },
  {
   "cell_type": "code",
   "execution_count": null,
   "metadata": {},
   "outputs": [],
   "source": []
  },
  {
   "cell_type": "code",
   "execution_count": null,
   "metadata": {},
   "outputs": [],
   "source": []
  },
  {
   "cell_type": "markdown",
   "metadata": {},
   "source": [
    "   в) $\\begin{cases}\n",
    "x_{1}+2x_{2}+5x_{3}=4, \\\\\n",
    "3x_{1}+x_{2}-8x_{3}=-2. \n",
    "\\end{cases}$"
   ]
  },
  {
   "cell_type": "code",
   "execution_count": 8,
   "metadata": {},
   "outputs": [
    {
     "name": "stdout",
     "output_type": "stream",
     "text": [
      "Матрица A:\n",
      "[[ 1  2  5]\n",
      " [ 3  1 -8]]\n",
      "Ранг матрицы A: 2\n"
     ]
    }
   ],
   "source": [
    "a = np.array([[1, 2, 5], [3, 1, -8]])\n",
    "print(f'Матрица A:\\n{a}')\n",
    "r = np.linalg.matrix_rank(a)\n",
    "print(f'Ранг матрицы A: {r}')"
   ]
  },
  {
   "cell_type": "code",
   "execution_count": 9,
   "metadata": {},
   "outputs": [
    {
     "name": "stdout",
     "output_type": "stream",
     "text": [
      "Вектор b: [ 4 -2]\n"
     ]
    }
   ],
   "source": [
    "# Вектор свободный членов\n",
    "b = np.array([4, -2])\n",
    "print(f'Вектор b: {b}')"
   ]
  },
  {
   "cell_type": "code",
   "execution_count": 10,
   "metadata": {},
   "outputs": [
    {
     "name": "stdout",
     "output_type": "stream",
     "text": [
      "Расширенная матрица A_t:\n",
      "[[ 1  2  5  4]\n",
      " [ 3  1 -8 -2]]\n",
      "Ранг матрицы A_t: 2\n"
     ]
    }
   ],
   "source": [
    "A_t = np.array([[1, 2, 5, 4], [3, 1, -8, -2]])\n",
    "print(f'Расширенная матрица A_t:\\n{A_t}')\n",
    "r = np.linalg.matrix_rank(A_t)\n",
    "print(f'Ранг матрицы A_t: {r}')"
   ]
  },
  {
   "cell_type": "markdown",
   "metadata": {},
   "source": [
    "Число неизвестных __n=3__"
   ]
  },
  {
   "cell_type": "markdown",
   "metadata": {},
   "source": [
    "Из теоремы Кронекера — Капелли cледует, что то __система (в) имеет бесконечное количество решений__,<br> так как $rankA=rank \\tilde A<n, (rankA=2, rank \\tilde A=2, n=3)$"
   ]
  },
  {
   "cell_type": "markdown",
   "metadata": {},
   "source": [
    "## Задача 3"
   ]
  },
  {
   "cell_type": "markdown",
   "metadata": {},
   "source": [
    "Проверить на совместность и выяснить, сколько решений будет иметь система линейных уравнений, заданная расширенной матрицей\n",
    "\n",
    "$$\\tilde{A}=\\begin{pmatrix}\n",
    "\\left.\\begin{matrix}\n",
    "1 & 3 & -2 & 4\\\\ \n",
    "0 & 5 & 0 & 1\\\\ \n",
    "0 & 0 & 3 & 0\\\\ \n",
    "0 & 0 & 0 & 2\n",
    "\\end{matrix}\\right|\n",
    "\\begin{matrix}\n",
    "3\\\\ \n",
    "2\\\\\n",
    "4\\\\\n",
    "1\n",
    "\\end{matrix}\n",
    "\\end{pmatrix}.$$"
   ]
  },
  {
   "cell_type": "code",
   "execution_count": 11,
   "metadata": {},
   "outputs": [
    {
     "name": "stdout",
     "output_type": "stream",
     "text": [
      "Матрица A:\n",
      "[[ 1  3 -2  4]\n",
      " [ 0  5  0  0]\n",
      " [ 0  0  3  0]\n",
      " [ 0  0  0  2]]\n",
      "Ранг матрицы A: 4\n"
     ]
    }
   ],
   "source": [
    "a = np.array([[1, 3, -2, 4], [0, 5, 0, 0], [0, 0, 3, 0], [0, 0, 0, 2]])\n",
    "print(f'Матрица A:\\n{a}')\n",
    "r = np.linalg.matrix_rank(a)\n",
    "print(f'Ранг матрицы A: {r}')"
   ]
  },
  {
   "cell_type": "code",
   "execution_count": 12,
   "metadata": {},
   "outputs": [
    {
     "name": "stdout",
     "output_type": "stream",
     "text": [
      "Расширенная матрица A_t:\n",
      "[[ 1  3 -2  4  3]\n",
      " [ 0  5  0  0  2]\n",
      " [ 0  0  3  0  4]\n",
      " [ 0  0  0  2  1]]\n",
      "Ранг матрицы A_t: 4\n"
     ]
    }
   ],
   "source": [
    "A_t = np.array([[1, 3, -2, 4, 3], [0, 5, 0, 0, 2], [0, 0, 3, 0, 4], [0, 0, 0, 2, 1]])\n",
    "\n",
    "print(f'Расширенная матрица A_t:\\n{A_t}')\n",
    "r = np.linalg.matrix_rank(A_t)\n",
    "print(f'Ранг матрицы A_t: {r}')"
   ]
  },
  {
   "cell_type": "markdown",
   "metadata": {},
   "source": [
    "Число неизвестных __n=4__"
   ]
  },
  {
   "cell_type": "markdown",
   "metadata": {},
   "source": [
    "Из теоремы Кронекера — Капелли cледует, что то система a) определена, т. е. имеет единственное решение так как $rankA=rank \\tilde A=n,  (rankA=4, rank \\tilde A=4, n=4)$"
   ]
  },
  {
   "cell_type": "markdown",
   "metadata": {},
   "source": [
    "## Задача 4"
   ]
  },
  {
   "cell_type": "markdown",
   "metadata": {},
   "source": [
    "Дана система линейных уравнений, заданная расширенной матрицей\n",
    "\n",
    "$$\\tilde{A}=\\begin{pmatrix}\n",
    "\\left.\\begin{matrix}\n",
    "1 & 2 & 3\\\\ \n",
    "4 & 5 & 6\\\\ \n",
    "7 & 8 & 9\n",
    "\\end{matrix}\\right|\n",
    "\\begin{matrix}\n",
    "a\\\\ \n",
    "b\\\\\n",
    "c\n",
    "\\end{matrix}\n",
    "\\end{pmatrix}.$$\n",
    "\n",
    "Найти соотношение между параметрами $a$, $b$ и $c$, при которых система является несовместной."
   ]
  },
  {
   "cell_type": "markdown",
   "metadata": {},
   "source": [
    "Из теоремы Кронекера — Капелли следует, что __система (б) несовместна__ тогда, когда $rankA<rank \\tilde A$."
   ]
  },
  {
   "cell_type": "code",
   "execution_count": 13,
   "metadata": {},
   "outputs": [
    {
     "name": "stdout",
     "output_type": "stream",
     "text": [
      "Матрица A:\n",
      "[[1 2 3]\n",
      " [4 5 6]\n",
      " [7 8 9]]\n",
      "Ранг матрицы A: 2\n"
     ]
    }
   ],
   "source": [
    "A = np.array([[1, 2, 3], [4, 5, 6], [7, 8, 9]])\n",
    "print(f'Матрица A:\\n{A}')\n",
    "r = np.linalg.matrix_rank(A)\n",
    "print(f'Ранг матрицы A: {r}')"
   ]
  },
  {
   "cell_type": "markdown",
   "metadata": {},
   "source": [
    "Следовательно, для того чтобы система была несовместной, требуется, чтобы ранг матрицы $\\tilde A$ был равен 3."
   ]
  },
  {
   "cell_type": "markdown",
   "metadata": {},
   "source": [
    " Преобразуем расширенную матрицу к ступенчатой форме"
   ]
  },
  {
   "cell_type": "markdown",
   "metadata": {},
   "source": [
    "1. Умножим 1-ю строку на 2 и вычием из 2-й строки.<br>\n",
    "2. Умножим 1-ю строку на 3 и вычием из 3-й строки.<br>\n",
    "\n",
    "В результату получим матрицу\n",
    "$$\\begin{pmatrix}\n",
    "\\left.\\begin{matrix}\n",
    "1 & 2 & 3\\\\ \n",
    "2 & 1 & 0\\\\ \n",
    "4 & 2 & 0\n",
    "\\end{matrix}\\right|\n",
    "\\begin{matrix}\n",
    "a\\\\ \n",
    "b-2a\\\\\n",
    "c-3a\n",
    "\\end{matrix}\n",
    "\\end{pmatrix}.$$"
   ]
  },
  {
   "cell_type": "markdown",
   "metadata": {},
   "source": [
    "3. Умножим 2-ю строку на 2 и вычием из 3-й строки.\n",
    "\n",
    "В результату получим матрицу\n",
    "$$\\begin{pmatrix}\n",
    "\\left.\\begin{matrix}\n",
    "1 & 2 & 3\\\\ \n",
    "2 & 1 & 0\\\\ \n",
    "0 & 0 & 0\n",
    "\\end{matrix}\\right|\n",
    "\\begin{matrix}\n",
    "a\\\\ \n",
    "b-2a\\\\\n",
    "c+a-2b\n",
    "\\end{matrix}\n",
    "\\end{pmatrix}.$$"
   ]
  },
  {
   "cell_type": "markdown",
   "metadata": {},
   "source": [
    "Если , $c+a-2b \\neq 0$ то система является несовместной. В противном случае одна из неизвестных является свободной переменной и, следовательно, система имеет бесконечное множество решений."
   ]
  },
  {
   "cell_type": "code",
   "execution_count": null,
   "metadata": {},
   "outputs": [],
   "source": []
  }
 ],
 "metadata": {
  "kernelspec": {
   "display_name": "Python 3",
   "language": "python",
   "name": "python3"
  },
  "language_info": {
   "codemirror_mode": {
    "name": "ipython",
    "version": 3
   },
   "file_extension": ".py",
   "mimetype": "text/x-python",
   "name": "python",
   "nbconvert_exporter": "python",
   "pygments_lexer": "ipython3",
   "version": "3.8.5"
  }
 },
 "nbformat": 4,
 "nbformat_minor": 4
}
