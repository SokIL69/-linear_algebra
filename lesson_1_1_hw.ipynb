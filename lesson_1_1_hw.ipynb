{
 "cells": [
  {
   "cell_type": "markdown",
   "metadata": {},
   "source": [
    "# Линейная алгебра"
   ]
  },
  {
   "cell_type": "markdown",
   "metadata": {},
   "source": [
    "### Урок 1. Линейное пространство. Основные понятия. Часть 1"
   ]
  },
  {
   "cell_type": "markdown",
   "metadata": {},
   "source": [
    "__1.__ Исследовать на линейную зависимость:\n",
    "\n",
    "$$f_{1}(x)=e^{x}, f_{2}(x)=1, f_{3}(x)=x+1, f_{4}(x)=x-e^{x}.$$"
   ]
  },
  {
   "cell_type": "markdown",
   "metadata": {},
   "source": [
    "__2.__ Исследовать на линейную зависимость:\n",
    "$$f_{1}(x)=2, f_{2}(x)=x, f_{3}(x)=x^{2}, f_{4}(x)=(x+1)^{2}$$"
   ]
  },
  {
   "cell_type": "markdown",
   "metadata": {},
   "source": [
    "__3.__ Найти координаты вектора $x = (2, 3, 5)\\in \\mathbb{R}^{3}$ в базисе $b_{1}=(0, 0, 10)$, $b_{2}=(2, 0, 0)$, $b_{3}=(0, 1, 0)$.\n"
   ]
  },
  {
   "cell_type": "markdown",
   "metadata": {},
   "source": [
    "##__4.__ Найти координаты вектора $3x^{2}-2x+2\\in\\mathbb{R}^{3}[x]$:\n",
    "\n",
    "а) в базисе $1$, $x$, $x^{2}$;\n",
    "\n",
    "б) в базисе $x^{2}$, $x-1$, $1$."
   ]
  },
  {
   "cell_type": "code",
   "execution_count": 1,
   "metadata": {},
   "outputs": [],
   "source": [
    "import numpy as np"
   ]
  },
  {
   "cell_type": "markdown",
   "metadata": {},
   "source": [
    "## Задача 1"
   ]
  },
  {
   "cell_type": "markdown",
   "metadata": {},
   "source": [
    "Исследовать на линейную зависимость:\n",
    "\n",
    "$$f_{1}(x)=e^{x}, f_{2}(x)=1, f_{3}(x)=x+1, f_{4}(x)=x-e^{x}.$$"
   ]
  },
  {
   "cell_type": "markdown",
   "metadata": {},
   "source": [
    "__Решение__"
   ]
  },
  {
   "cell_type": "markdown",
   "metadata": {},
   "source": [
    "Заметим, что\n",
    "$$f_{4}(x)=x-e^x=(x+1)-1-e^x=f_3(x) - f_2(x) - f_1(x)$$\n",
    "\n",
    "Следовательно вектор $f_{4}(x)=f_3(x) - f_2(x) - f_1(x)$, есть линейная комбинация векторов $f_1(x)$, $f_2(x)$ и $f_3(x)$, из чего можно сделать вывод, что $f_{1}(x)=e^x$, $f_{2}(x)=1$, $f_{3}(x)=x+1$ и $f_{4}(x)=x-e^x$ __линейно зависимы__"
   ]
  },
  {
   "cell_type": "markdown",
   "metadata": {},
   "source": [
    "## Задача 2"
   ]
  },
  {
   "cell_type": "markdown",
   "metadata": {},
   "source": [
    "Исследовать на линейную зависимость:\n",
    "$$f_{1}(x)=2, f_{2}(x)=x, f_{3}(x)=x^{2}, f_{4}(x)=(x+1)^{2}$$"
   ]
  },
  {
   "cell_type": "markdown",
   "metadata": {},
   "source": [
    "__Решение__"
   ]
  },
  {
   "cell_type": "markdown",
   "metadata": {},
   "source": [
    "Заметим, что\n",
    "$$f_{4}(x)=(x+1)^{2}=x^2+2x+1=\\frac{1}{2}f_1(x) + 2f_2(x) + f_3(x)$$\n",
    "\n",
    "Следовательно вектор $f_{4}(x)=\\frac{1}{2}f_1(x) + 2f_2(x) + f_3(x)$, есть линейная комбинация векторов $f_1(x)$, $f_2(x)$ и $f_3(x)$, из чего можно сделать вывод, что $f_{1}(x)=2$, $f_{2}(x)=x$, $f_{3}(x)=x^{2}$ и $f_{4}(x)=(x+1)^{2}$ __линейно зависимы__."
   ]
  },
  {
   "cell_type": "markdown",
   "metadata": {},
   "source": [
    "## Задача 3"
   ]
  },
  {
   "cell_type": "markdown",
   "metadata": {},
   "source": [
    "Найти координаты вектора $x = (2, 3, 5)\\in \\mathbb{R}^{3}$ в базисе $b_{1}=(0, 0, 10)$, $b_{2}=(2, 0, 0)$, $b_{3}=(0, 1, 0)$.\n"
   ]
  },
  {
   "cell_type": "code",
   "execution_count": 2,
   "metadata": {},
   "outputs": [
    {
     "name": "stdout",
     "output_type": "stream",
     "text": [
      "Вектор b_1: [ 0  0 10]\n",
      "Вектор b_2: [2 0 0]\n",
      "Вектор b_3: [0 1 0]\n"
     ]
    }
   ],
   "source": [
    "b_1 = np.array([0, 0 , 10])\n",
    "b_2 = np.array([2, 0, 0])\n",
    "b_3 = np.array([0, 1, 0])\n",
    "print(f'Вектор b_1: {b_1}')\n",
    "print(f'Вектор b_2: {b_2}')\n",
    "print(f'Вектор b_3: {b_3}')"
   ]
  },
  {
   "cell_type": "code",
   "execution_count": 3,
   "metadata": {},
   "outputs": [
    {
     "name": "stdout",
     "output_type": "stream",
     "text": [
      "Вектор x: [2. 3. 5.]\n"
     ]
    }
   ],
   "source": [
    "x = (1/2)*b_1 + 1*b_2 + 3*b_3\n",
    "print(f'Вектор x: {x}')"
   ]
  },
  {
   "cell_type": "markdown",
   "metadata": {},
   "source": [
    "__Решение__"
   ]
  },
  {
   "cell_type": "markdown",
   "metadata": {},
   "source": [
    "Новый базис $$b_{1}=(0, 0, 10)$$ $$b_{2}=(2, 0, 0)$$ $$b_{3}=(0, 1, 0)$$"
   ]
  },
  {
   "cell_type": "markdown",
   "metadata": {},
   "source": [
    "Вектор \n",
    "$$x = (2, 3, 5) = (2, 0, 0) + (0, 3, 0) + (0, 0, 5) = \\frac{1}{2}b_1 + b_2 + 3b_3$$"
   ]
  },
  {
   "cell_type": "markdown",
   "metadata": {},
   "source": [
    "__Ответ__: координаты вектора $x = (2, 3, 5)\\in \\mathbb{R}^{3}$ в базисе $b_{1}=(0, 0, 10)$, $b_{2}=(2, 0, 0)$, $b_{3}=(0, 1, 0)$ равны $(1/2, 1, 3 )$."
   ]
  },
  {
   "cell_type": "markdown",
   "metadata": {},
   "source": [
    "## Задача 4"
   ]
  },
  {
   "cell_type": "markdown",
   "metadata": {},
   "source": [
    "##__4.__ Найти координаты вектора $S=3x^{2}-2x+2\\in\\mathbb{R}^{3}[x]$:\n",
    "\n",
    "а) в базисе $1$, $x$, $x^{2}$;\n",
    "\n",
    "б) в базисе $x^{2}$, $x-1$, $1$."
   ]
  },
  {
   "cell_type": "markdown",
   "metadata": {},
   "source": [
    "__a)__ зададим базис из 3-х векторов:\n",
    "$$e_1=(1, 0, 0)$$\n",
    "$$e_2=(0, x, 0)$$\n",
    "$$e_3=(0, 0, x^2)$$"
   ]
  },
  {
   "cell_type": "markdown",
   "metadata": {},
   "source": [
    "Тогда вектор в этом базисе $S = 2-2x+3x^{2}$ будет иметь вил:\n",
    "\n",
    "$$S= 2e_1 - 2e_2 + 3e_3= (2, -2, 3)$$\n",
    "__Ответ__: координаты вектора $S=(2, -2, 3)$"
   ]
  },
  {
   "cell_type": "markdown",
   "metadata": {},
   "source": [
    "__b)__ зададим базис из 3-х векторов:\n",
    "$$e_1=(x^2, 0, 0)$$\n",
    "$$e_2=(0, x - 1, 0)$$\n",
    "$$e_3=(0, 0, 1)$$"
   ]
  },
  {
   "cell_type": "markdown",
   "metadata": {},
   "source": [
    "Тогда в этом базисе вектор $S = 3x^{2}-2x + 2$ будет иметь вил:\n",
    "\n",
    "$$S= 3e_1 - 2e_2 + 0 \\cdot e_3= (3, -2, 0)$$\n",
    "__Ответ__: координаты вектора $S=(3, -2, 0)$"
   ]
  },
  {
   "cell_type": "code",
   "execution_count": null,
   "metadata": {},
   "outputs": [],
   "source": []
  }
 ],
 "metadata": {
  "kernelspec": {
   "display_name": "Python 3",
   "language": "python",
   "name": "python3"
  },
  "language_info": {
   "codemirror_mode": {
    "name": "ipython",
    "version": 3
   },
   "file_extension": ".py",
   "mimetype": "text/x-python",
   "name": "python",
   "nbconvert_exporter": "python",
   "pygments_lexer": "ipython3",
   "version": "3.8.5"
  }
 },
 "nbformat": 4,
 "nbformat_minor": 4
}
