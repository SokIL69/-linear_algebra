{
 "cells": [
  {
   "cell_type": "markdown",
   "metadata": {},
   "source": [
    "### Соковнин Игорь Леонидович\n",
    "\n",
    "# Линейная алгебра"
   ]
  },
  {
   "cell_type": "markdown",
   "metadata": {},
   "source": [
    "### Урок 5. Сингулярное разложение матриц"
   ]
  },
  {
   "cell_type": "markdown",
   "metadata": {},
   "source": [
    "## Практическое задание"
   ]
  },
  {
   "cell_type": "markdown",
   "metadata": {},
   "source": [
    "1. Найти с помощью NumPy SVD для матрицы\n",
    "\n",
    "$$\\begin{pmatrix}\n",
    "1 & 2 & 0\\\\ \n",
    "0 & 0 & 5\\\\ \n",
    "3 & -4 & 2\\\\ \n",
    "1 & 6 & 5\\\\ \n",
    "0 & 1 & 0\n",
    "\\end{pmatrix}.$$\n",
    "\n",
    "\n",
    "2. Для матрицы из предыдущего задания найти:\n",
    "\n",
    "    а) евклидову норму;\n",
    "    \n",
    "    б) норму Фробениуса."
   ]
  },
  {
   "cell_type": "code",
   "execution_count": null,
   "metadata": {},
   "outputs": [],
   "source": []
  },
  {
   "cell_type": "markdown",
   "metadata": {},
   "source": [
    "_Ортогона́льная ма́трица_ — квадратная матрица $F$ с вещественными элементами, результат умножения которой на транспонированную матрицу $F^{T}$ равен единичной матрице:\n",
    "$$FF^{T}=F^{T}F=E, FF^{T}=F^{T}F=E,$$\n",
    "или, что эквивалентно, её обратная матрица (которая обязательно существует) равна транспонированной матрице:\n",
    "$$F^{-1}=F^{T}.$$"
   ]
  },
  {
   "cell_type": "markdown",
   "metadata": {},
   "source": [
    "Представление матрицы $A$ в виде\n",
    "\n",
    "$$A=UDV^{T}$$\n",
    "\n",
    "называется _сингулярным разложением (Singular Values Decomposition, SVD)_."
   ]
  },
  {
   "cell_type": "code",
   "execution_count": null,
   "metadata": {},
   "outputs": [],
   "source": []
  },
  {
   "cell_type": "code",
   "execution_count": 1,
   "metadata": {},
   "outputs": [],
   "source": [
    "import numpy as np\n",
    "np.set_printoptions(precision=2, suppress=True)"
   ]
  },
  {
   "cell_type": "markdown",
   "metadata": {},
   "source": [
    "## Задача 1"
   ]
  },
  {
   "cell_type": "markdown",
   "metadata": {},
   "source": [
    "1. Найти с помощью NumPy SVD для матрицы\n",
    "\n",
    "$$\\begin{pmatrix}\n",
    "1 & 2 & 0\\\\ \n",
    "0 & 0 & 5\\\\ \n",
    "3 & -4 & 2\\\\ \n",
    "1 & 6 & 5\\\\ \n",
    "0 & 1 & 0\n",
    "\\end{pmatrix}.$$\n"
   ]
  },
  {
   "cell_type": "code",
   "execution_count": 2,
   "metadata": {},
   "outputs": [
    {
     "name": "stdout",
     "output_type": "stream",
     "text": [
      "Матрица A:\n",
      "[[ 1  2  0]\n",
      " [ 0  0  5]\n",
      " [ 3 -4  2]\n",
      " [ 1  6  5]\n",
      " [ 0  1  0]]\n"
     ]
    }
   ],
   "source": [
    "A = np.array([[1, 2, 0],\n",
    "              [0, 0, 5],\n",
    "              [3,-4, 2],\n",
    "              [1, 6, 5],             \n",
    "              [0, 1, 0]])\n",
    "print(f'Матрица A:\\n{A}')"
   ]
  },
  {
   "cell_type": "code",
   "execution_count": 3,
   "metadata": {},
   "outputs": [
    {
     "name": "stdout",
     "output_type": "stream",
     "text": [
      "[[  5   0  -5  13   2]\n",
      " [  0  25  10  25   0]\n",
      " [ -5  10  29 -11  -4]\n",
      " [ 13  25 -11  62   6]\n",
      " [  2   0  -4   6   1]]\n"
     ]
    }
   ],
   "source": [
    "print(np.dot(A, A.T))"
   ]
  },
  {
   "cell_type": "code",
   "execution_count": 4,
   "metadata": {},
   "outputs": [],
   "source": [
    "U, s, W = np.linalg.svd(A)\n",
    "\n",
    "# Транспонируем матрицу W\n",
    "V = W.T\n",
    "\n",
    "# s - список диагональных элементов, его нужно привести к виду диагональной матрицы для наглядности\n",
    "D = np.zeros_like(A, dtype=float)\n",
    "D[np.diag_indices(min(A.shape))] = s"
   ]
  },
  {
   "cell_type": "code",
   "execution_count": 5,
   "metadata": {},
   "outputs": [
    {
     "name": "stdout",
     "output_type": "stream",
     "text": [
      "Матрица D:\n",
      "[[8.82 0.   0.  ]\n",
      " [0.   6.14 0.  ]\n",
      " [0.   0.   2.53]\n",
      " [0.   0.   0.  ]\n",
      " [0.   0.   0.  ]]\n"
     ]
    }
   ],
   "source": [
    "print(f'Матрица D:\\n{D}')"
   ]
  },
  {
   "cell_type": "code",
   "execution_count": 6,
   "metadata": {},
   "outputs": [
    {
     "name": "stdout",
     "output_type": "stream",
     "text": [
      "Матрица U:\n",
      "[[ 0.17  0.16 -0.53 -0.8  -0.16]\n",
      " [ 0.39 -0.53  0.61 -0.43  0.03]\n",
      " [-0.14 -0.82 -0.52  0.14  0.07]\n",
      " [ 0.89  0.06 -0.25  0.38 -0.06]\n",
      " [ 0.08  0.11 -0.08 -0.11  0.98]]\n"
     ]
    }
   ],
   "source": [
    "print(f'Матрица U:\\n{U}')"
   ]
  },
  {
   "cell_type": "code",
   "execution_count": 7,
   "metadata": {},
   "outputs": [
    {
     "name": "stdout",
     "output_type": "stream",
     "text": [
      "[[ 1.  0. -0. -0. -0.]\n",
      " [ 0.  1.  0. -0.  0.]\n",
      " [-0.  0.  1. -0. -0.]\n",
      " [-0. -0. -0.  1. -0.]\n",
      " [-0.  0. -0. -0.  1.]]\n"
     ]
    }
   ],
   "source": [
    "# Убедимся, что она действительно ортогональна\n",
    "print(np.dot(U.T, U))"
   ]
  },
  {
   "cell_type": "code",
   "execution_count": 8,
   "metadata": {},
   "outputs": [
    {
     "name": "stdout",
     "output_type": "stream",
     "text": [
      "Матрица V:\n",
      "[[ 0.07 -0.37 -0.93]\n",
      " [ 0.72  0.67 -0.21]\n",
      " [ 0.69 -0.65  0.31]]\n"
     ]
    }
   ],
   "source": [
    "print(f'Матрица V:\\n{V}')"
   ]
  },
  {
   "cell_type": "code",
   "execution_count": 9,
   "metadata": {
    "scrolled": true
   },
   "outputs": [
    {
     "name": "stdout",
     "output_type": "stream",
     "text": [
      "[[ 1.  0.  0.]\n",
      " [ 0.  1. -0.]\n",
      " [ 0. -0.  1.]]\n"
     ]
    }
   ],
   "source": [
    "# Убедимся, что она действительно ортогональна\n",
    "print(np.dot(V.T, V))"
   ]
  },
  {
   "cell_type": "code",
   "execution_count": 10,
   "metadata": {},
   "outputs": [
    {
     "name": "stdout",
     "output_type": "stream",
     "text": [
      "[[ 1.  2.  0.]\n",
      " [ 0. -0.  5.]\n",
      " [ 3. -4.  2.]\n",
      " [ 1.  6.  5.]\n",
      " [-0.  1.  0.]]\n"
     ]
    }
   ],
   "source": [
    "# Проведем проверку\n",
    "print(np.dot(np.dot(U, D), V.T))"
   ]
  },
  {
   "cell_type": "markdown",
   "metadata": {},
   "source": [
    "## Задача 2"
   ]
  },
  {
   "cell_type": "markdown",
   "metadata": {},
   "source": [
    "2. Для матрицы из предыдущего задания найти:\n",
    "\n",
    "    а) евклидову норму;\n",
    "    \n",
    "    б) норму Фробениуса."
   ]
  },
  {
   "cell_type": "markdown",
   "metadata": {},
   "source": [
    "___а) Найти евклидову норму___"
   ]
  },
  {
   "cell_type": "markdown",
   "metadata": {},
   "source": [
    "Евклидова норма матрицы равна евклидовой норме диагональной матрицы из ее сингулярных чисел $D$. Максимальное значение полученного отношения будет равно максимальному сингулярному числу $\\mu_{max}$, и, принимая во внимание факт сортировки по убыванию сингулярных чисел, получим\n",
    "\n",
    "$$\\left \\| A \\right \\|_{E}=\\mu_{1}.$$"
   ]
  },
  {
   "cell_type": "code",
   "execution_count": 11,
   "metadata": {},
   "outputs": [
    {
     "name": "stdout",
     "output_type": "stream",
     "text": [
      "Евклидова норама матрицы A:\n",
      "8.824868854820442\n"
     ]
    }
   ],
   "source": [
    "n_ev=D[0, 0]\n",
    "print(f'Евклидова норама матрицы A:\\n{n_ev}')"
   ]
  },
  {
   "cell_type": "markdown",
   "metadata": {},
   "source": [
    "__б) Найти норму Фробениуса__"
   ]
  },
  {
   "cell_type": "markdown",
   "metadata": {},
   "source": [
    "В случае, когда известно сингулярное разложение матрицы, ее норма Фробениуса вычисляется как\n",
    "\n",
    "$$\\left \\| A \\right \\|_{F}=\\sqrt{\\sum_{k=1}^{r}\\mu_{k}^{2}}.$$\n",
    "\n",
    "Диагональные элементы матрицы $D$ имели вид\n",
    "\n",
    "$$\\mu_{1}\\geqslant \\mu_{2}\\geqslant ... \\geqslant \\mu_{r} > \\mu_{r+1}=...=\\mu_{n}=0,$$"
   ]
  },
  {
   "cell_type": "code",
   "execution_count": 12,
   "metadata": {},
   "outputs": [
    {
     "name": "stdout",
     "output_type": "stream",
     "text": [
      "Норма Фрабениуса матрицы A:\n",
      "11.045361017187261\n"
     ]
    }
   ],
   "source": [
    "n_f=np.linalg.norm(A, ord=None, axis=None, keepdims=False)\n",
    "print(f'Норма Фрабениуса матрицы A:\\n{n_f}')"
   ]
  },
  {
   "cell_type": "code",
   "execution_count": 13,
   "metadata": {},
   "outputs": [
    {
     "data": {
      "text/plain": [
       "11.045361017187261"
      ]
     },
     "execution_count": 13,
     "metadata": {},
     "output_type": "execute_result"
    }
   ],
   "source": [
    "# Проверка\n",
    "(D[0,0]**2+D[1,1]**2+D[2,2]**2)**(1/2)"
   ]
  },
  {
   "cell_type": "markdown",
   "metadata": {},
   "source": [
    "1. numpy.linalg.norm - https://pyprog.pro/linear_algebra_functions/linalg_norm.html"
   ]
  },
  {
   "cell_type": "markdown",
   "metadata": {},
   "source": []
  }
 ],
 "metadata": {
  "kernelspec": {
   "display_name": "Python 3",
   "language": "python",
   "name": "python3"
  },
  "language_info": {
   "codemirror_mode": {
    "name": "ipython",
    "version": 3
   },
   "file_extension": ".py",
   "mimetype": "text/x-python",
   "name": "python",
   "nbconvert_exporter": "python",
   "pygments_lexer": "ipython3",
   "version": "3.8.5"
  }
 },
 "nbformat": 4,
 "nbformat_minor": 4
}
